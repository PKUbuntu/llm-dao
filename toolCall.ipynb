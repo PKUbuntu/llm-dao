{
 "cells": [
  {
   "cell_type": "markdown",
   "metadata": {},
   "source": [
    "# 使用 Tool \n",
    "\n",
    "1. 安装对应 Tool\n",
    "2. 确定要执行的 Tool\n",
    "3. 执行 Tool\n",
    "4. 整合后的结果"
   ]
  },
  {
   "cell_type": "code",
   "execution_count": 5,
   "metadata": {},
   "outputs": [],
   "source": [
    "expression_evaluator_tool = {\n",
    "        'type': 'function',\n",
    "        'function': {\n",
    "          'name': 'expression_evaluator',\n",
    "          'description': 'Evaluates a mathematical expression following the PEMDAS/BODMAS order of operations.',\n",
    "          'parameters': {\n",
    "            'type': 'object',\n",
    "            'properties': {\n",
    "              'expression': {\n",
    "                'type': 'string',\n",
    "                'description': 'The mathematical expression to evaluate. The expression can include integers, decimals, parentheses, and the operators +, -, *, and /.',\n",
    "              }\n",
    "            },\n",
    "            'required': ['expression'],\n",
    "          },\n",
    "        },\n",
    "      }\n",
    "\n",
    "import numexpr as ne\n",
    "\n",
    "def expression_evaluator(expression = \"\"):\n",
    "    try:\n",
    "        result = ne.evaluate(expression)\n",
    "        return f\"Answer to {expression} is {result}\"\n",
    "    except Exception as e:\n",
    "        return str(e)"
   ]
  },
  {
   "cell_type": "code",
   "execution_count": 12,
   "metadata": {},
   "outputs": [],
   "source": [
    "import ollama\n",
    "tool_history = []\n",
    "\n",
    "OLLAMA_HOST=\"http://localhost:6060\"\n",
    "\n",
    "def tool_calling(query):\n",
    "    \n",
    "    messages = [{'role': 'user', 'content': query}]\n",
    "\n",
    "    # response = ollama.chat(\n",
    "    response = ollama.chat(    \n",
    "        model='llama3.1:latest',\n",
    "        messages=messages,\n",
    "        tools=[expression_evaluator_tool,],\n",
    "    )\n",
    "\n",
    "    print(response['message'])\n",
    "    \n",
    "    messages.append(response['message'])\n",
    "\n",
    "    if not response['message'].get('tool_calls'):\n",
    "        print(\"The model didn't use the function. Its response was:\")\n",
    "        print(response['message']['content'])\n",
    "\n",
    "    if response['message'].get('tool_calls'):\n",
    "        available_functions = {\n",
    "            'expression_evaluator' : expression_evaluator\n",
    "            # 'wikipedia' : wikipedia,\n",
    "            # 'weather_forecast' : weather_forecast\n",
    "        }\n",
    "    for tool in response['message']['tool_calls']:\n",
    "\n",
    "        function_to_call = available_functions[tool['function']['name']]\n",
    "        args = tool['function']['arguments'].values()\n",
    "        function_response = function_to_call(*args)\n",
    "\n",
    "        print(\"\\nTool Response:\\n\", function_response)\n",
    "\n",
    "        messages.append({'role': 'tool', 'content': function_response})\n",
    "\n",
    "    final_response = ollama.chat(model='llama3.1', messages=messages)\n",
    "\n",
    "    return final_response['message']['content']"
   ]
  },
  {
   "cell_type": "code",
   "execution_count": 14,
   "metadata": {},
   "outputs": [
    {
     "name": "stdout",
     "output_type": "stream",
     "text": [
      "{'role': 'assistant', 'content': '(100 + 2) ** 3 = 102 ** 3\\n= 1064848'}\n",
      "The model didn't use the function. Its response was:\n",
      "(100 + 2) ** 3 = 102 ** 3\n",
      "= 1064848\n"
     ]
    },
    {
     "ename": "KeyError",
     "evalue": "'tool_calls'",
     "output_type": "error",
     "traceback": [
      "\u001b[0;31m---------------------------------------------------------------------------\u001b[0m",
      "\u001b[0;31mKeyError\u001b[0m                                  Traceback (most recent call last)",
      "Cell \u001b[0;32mIn[14], line 2\u001b[0m\n\u001b[1;32m      1\u001b[0m query \u001b[38;5;241m=\u001b[39m \u001b[38;5;124m'\u001b[39m\u001b[38;5;124mWhat is (100+2)**3\u001b[39m\u001b[38;5;124m'\u001b[39m\n\u001b[0;32m----> 2\u001b[0m result \u001b[38;5;241m=\u001b[39m \u001b[43mtool_calling\u001b[49m\u001b[43m(\u001b[49m\u001b[43mquery\u001b[49m\u001b[43m)\u001b[49m\n\u001b[1;32m      3\u001b[0m \u001b[38;5;28mprint\u001b[39m(\u001b[38;5;124m\"\u001b[39m\u001b[38;5;130;01m\\n\u001b[39;00m\u001b[38;5;130;01m\\n\u001b[39;00m\u001b[38;5;124mAnswer:\u001b[39m\u001b[38;5;130;01m\\n\u001b[39;00m\u001b[38;5;124m\"\u001b[39m, result)\n",
      "Cell \u001b[0;32mIn[12], line 32\u001b[0m, in \u001b[0;36mtool_calling\u001b[0;34m(query)\u001b[0m\n\u001b[1;32m     26\u001b[0m \u001b[38;5;28;01mif\u001b[39;00m response[\u001b[38;5;124m'\u001b[39m\u001b[38;5;124mmessage\u001b[39m\u001b[38;5;124m'\u001b[39m]\u001b[38;5;241m.\u001b[39mget(\u001b[38;5;124m'\u001b[39m\u001b[38;5;124mtool_calls\u001b[39m\u001b[38;5;124m'\u001b[39m):\n\u001b[1;32m     27\u001b[0m     available_functions \u001b[38;5;241m=\u001b[39m {\n\u001b[1;32m     28\u001b[0m         \u001b[38;5;124m'\u001b[39m\u001b[38;5;124mexpression_evaluator\u001b[39m\u001b[38;5;124m'\u001b[39m : expression_evaluator\n\u001b[1;32m     29\u001b[0m         \u001b[38;5;66;03m# 'wikipedia' : wikipedia,\u001b[39;00m\n\u001b[1;32m     30\u001b[0m         \u001b[38;5;66;03m# 'weather_forecast' : weather_forecast\u001b[39;00m\n\u001b[1;32m     31\u001b[0m     }\n\u001b[0;32m---> 32\u001b[0m \u001b[38;5;28;01mfor\u001b[39;00m tool \u001b[38;5;129;01min\u001b[39;00m \u001b[43mresponse\u001b[49m\u001b[43m[\u001b[49m\u001b[38;5;124;43m'\u001b[39;49m\u001b[38;5;124;43mmessage\u001b[39;49m\u001b[38;5;124;43m'\u001b[39;49m\u001b[43m]\u001b[49m\u001b[43m[\u001b[49m\u001b[38;5;124;43m'\u001b[39;49m\u001b[38;5;124;43mtool_calls\u001b[39;49m\u001b[38;5;124;43m'\u001b[39;49m\u001b[43m]\u001b[49m:\n\u001b[1;32m     34\u001b[0m     function_to_call \u001b[38;5;241m=\u001b[39m available_functions[tool[\u001b[38;5;124m'\u001b[39m\u001b[38;5;124mfunction\u001b[39m\u001b[38;5;124m'\u001b[39m][\u001b[38;5;124m'\u001b[39m\u001b[38;5;124mname\u001b[39m\u001b[38;5;124m'\u001b[39m]]\n\u001b[1;32m     35\u001b[0m     args \u001b[38;5;241m=\u001b[39m tool[\u001b[38;5;124m'\u001b[39m\u001b[38;5;124mfunction\u001b[39m\u001b[38;5;124m'\u001b[39m][\u001b[38;5;124m'\u001b[39m\u001b[38;5;124marguments\u001b[39m\u001b[38;5;124m'\u001b[39m]\u001b[38;5;241m.\u001b[39mvalues()\n",
      "\u001b[0;31mKeyError\u001b[0m: 'tool_calls'"
     ]
    }
   ],
   "source": [
    "query = 'What is (100+2)**3'\n",
    "result = tool_calling(query)\n",
    "print(\"\\n\\nAnswer:\\n\", result)"
   ]
  }
 ],
 "metadata": {
  "kernelspec": {
   "display_name": ".venv",
   "language": "python",
   "name": "python3"
  },
  "language_info": {
   "codemirror_mode": {
    "name": "ipython",
    "version": 3
   },
   "file_extension": ".py",
   "mimetype": "text/x-python",
   "name": "python",
   "nbconvert_exporter": "python",
   "pygments_lexer": "ipython3",
   "version": "3.10.14"
  }
 },
 "nbformat": 4,
 "nbformat_minor": 2
}

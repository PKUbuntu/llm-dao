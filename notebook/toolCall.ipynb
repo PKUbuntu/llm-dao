{
 "cells": [
  {
   "cell_type": "markdown",
   "metadata": {},
   "source": [
    "# 使用 Tool \n",
    "\n",
    "1. 安装对应 Tool\n",
    "2. 确定要执行的 Tool\n",
    "3. 执行 Tool\n",
    "4. 整合后的结果"
   ]
  },
  {
   "cell_type": "code",
   "execution_count": 5,
   "metadata": {},
   "outputs": [],
   "source": [
    "expression_evaluator_tool = {\n",
    "        'type': 'function',\n",
    "        'function': {\n",
    "          'name': 'expression_evaluator',\n",
    "          'description': 'Evaluates a mathematical expression following the PEMDAS/BODMAS order of operations.',\n",
    "          'parameters': {\n",
    "            'type': 'object',\n",
    "            'properties': {\n",
    "              'expression': {\n",
    "                'type': 'string',\n",
    "                'description': 'The mathematical expression to evaluate. The expression can include integers, decimals, parentheses, and the operators +, -, *, and /.',\n",
    "              }\n",
    "            },\n",
    "            'required': ['expression'],\n",
    "          },\n",
    "        },\n",
    "      }\n",
    "\n",
    "import numexpr as ne\n",
    "\n",
    "def expression_evaluator(expression = \"\"):\n",
    "    try:\n",
    "        result = ne.evaluate(expression)\n",
    "        return f\"Answer to {expression} is {result}\"\n",
    "    except Exception as e:\n",
    "        return str(e)"
   ]
  },
  {
   "cell_type": "code",
   "execution_count": 15,
   "metadata": {},
   "outputs": [],
   "source": [
    "!export OLLAMA_HOST=\"localhost:6060\""
   ]
  },
  {
   "cell_type": "code",
   "execution_count": 16,
   "metadata": {},
   "outputs": [],
   "source": [
    "import ollama\n",
    "tool_history = []\n",
    "\n",
    "def tool_calling(query):\n",
    "    \n",
    "    messages = [{'role': 'user', 'content': query}]\n",
    "\n",
    "    # response = ollama.chat(\n",
    "    response = ollama.chat(    \n",
    "        model='llama3.1:latest',\n",
    "        messages=messages,\n",
    "        tools=[expression_evaluator_tool,],\n",
    "    )\n",
    "\n",
    "    print(response['message'])\n",
    "    \n",
    "    messages.append(response['message'])\n",
    "\n",
    "    if not response['message'].get('tool_calls'):\n",
    "        print(\"The model didn't use the function. Its response was:\")\n",
    "        print(response['message']['content'])\n",
    "\n",
    "    if response['message'].get('tool_calls'):\n",
    "        available_functions = {\n",
    "            'expression_evaluator' : expression_evaluator\n",
    "            # 'wikipedia' : wikipedia,\n",
    "            # 'weather_forecast' : weather_forecast\n",
    "        }\n",
    "    for tool in response['message']['tool_calls']:\n",
    "\n",
    "        function_to_call = available_functions[tool['function']['name']]\n",
    "        args = tool['function']['arguments'].values()\n",
    "        function_response = function_to_call(*args)\n",
    "\n",
    "        print(\"\\nTool Response:\\n\", function_response)\n",
    "\n",
    "        messages.append({'role': 'tool', 'content': function_response})\n",
    "\n",
    "    final_response = ollama.chat(model='llama3.1', messages=messages)\n",
    "\n",
    "    return final_response['message']['content']"
   ]
  },
  {
   "cell_type": "code",
   "execution_count": 19,
   "metadata": {},
   "outputs": [
    {
     "name": "stdout",
     "output_type": "stream",
     "text": [
      "{'role': 'assistant', 'tool_calls': [{'function': {'name': 'expression_evaluator', 'arguments': {'expression': '(100+2)**3'}}}]}\n",
      "\n",
      "Tool Response:\n",
      " Answer to (100+2)**3 is 1061208\n",
      "\n",
      "\n",
      "Answer:\n",
      " 为了计算 (100+2)**3，我们首先要计算表达式内的内容，也就是 100 和 2 的和。然后将结果提升到 3 次方。\n",
      "\n",
      "1. 计算表达式内的内容：100 + 2 = 102\n",
      "2. 将 102 提升到 3 次方：102 ** 3 = 1061208\n",
      "\n",
      "因此，(100+2)**3 等于 1061208。\n"
     ]
    }
   ],
   "source": [
    "query = '请计算 (100+2)**3  用中文解答过程'\n",
    "result = tool_calling(query)\n",
    "print(\"\\n\\nAnswer:\\n\", result)"
   ]
  }
 ],
 "metadata": {
  "kernelspec": {
   "display_name": ".venv",
   "language": "python",
   "name": "python3"
  },
  "language_info": {
   "codemirror_mode": {
    "name": "ipython",
    "version": 3
   },
   "file_extension": ".py",
   "mimetype": "text/x-python",
   "name": "python",
   "nbconvert_exporter": "python",
   "pygments_lexer": "ipython3",
   "version": "3.12.4"
  }
 },
 "nbformat": 4,
 "nbformat_minor": 2
}
